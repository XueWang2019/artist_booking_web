{
 "cells": [
  {
   "cell_type": "code",
   "execution_count": null,
   "metadata": {},
   "outputs": [],
   "source": [
    "from flask_sqlalchemy import SQLAlchemy\n",
    "db = SQLAlchemy()\n",
    "class Venue(db.Model):\n",
    "    \n",
    "    __tablename__ = 'Venue'\n",
    "    id = db.Column(db.Integer, primary_key=True)\n",
    "    name = db.Column(db.String)\n",
    "    city = db.Column(db.String(120))\n",
    "    state = db.Column(db.String(120))\n",
    "    address = db.Column(db.String(120))\n",
    "    phone = db.Column(db.String(120))\n",
    "    image_link = db.Column(db.String(500))\n",
    "    facebook_link = db.Column(db.String(120))\n",
    "\n",
    "    \n",
    "class Artist(db.Model):\n",
    "    __tablename__ = 'Artist'\n",
    "    id = db.Column(db.Integer, primary_key=True)\n",
    "    name = db.Column(db.String)\n",
    "    city = db.Column(db.String(120))\n",
    "    state = db.Column(db.String(120))\n",
    "    phone = db.Column(db.String(120))\n",
    "    genres = db.Column(db.String(120))\n",
    "    image_link = db.Column(db.String(500))\n",
    "    facebook_link = db.Column(db.String(120))\n",
    "\n",
    "    \n",
    "class Show(db.Model):\n",
    "     # Foreign Keys\n",
    "    artist_id = db.Column(db.Integer, db.ForeignKey('Artist.id'))\n",
    "    venue_id = db.Column(db.Integer, db.ForeignKey('Venue.id'))\n",
    "    # relationships\n",
    "    artist = db.relationship(\n",
    "        Artist,\n",
    "        backref=db.backref('shows', cascade='all, delete')\n",
    "    )\n",
    "    venue = db.relationship(\n",
    "        Venue,\n",
    "        backref=db.backref('shows', cascade='all, delete')\n",
    "    )"
   ]
  },
  {
   "cell_type": "code",
   "execution_count": null,
   "metadata": {},
   "outputs": [],
   "source": []
  }
 ],
 "metadata": {
  "kernelspec": {
   "display_name": "Python 3",
   "language": "python",
   "name": "python3"
  },
  "language_info": {
   "codemirror_mode": {
    "name": "ipython",
    "version": 3
   },
   "file_extension": ".py",
   "mimetype": "text/x-python",
   "name": "python",
   "nbconvert_exporter": "python",
   "pygments_lexer": "ipython3",
   "version": "3.8.5"
  }
 },
 "nbformat": 4,
 "nbformat_minor": 4
}
